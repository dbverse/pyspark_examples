{
 "cells": [
  {
   "cell_type": "code",
   "execution_count": 1,
   "metadata": {},
   "outputs": [],
   "source": [
    "import pyspark\n",
    "from pyspark.sql import *\n",
    "from pyspark.sql.types import *\n",
    "from pyspark.sql.functions import *"
   ]
  },
  {
   "cell_type": "markdown",
   "metadata": {},
   "source": [
    "### Native Spark expects ndjson "
   ]
  },
  {
   "cell_type": "code",
   "execution_count": 2,
   "metadata": {},
   "outputs": [
    {
     "name": "stderr",
     "output_type": "stream",
     "text": [
      "your 131072x1 screen size is bogus. expect trouble\n",
      "25/04/12 16:59:42 WARN Utils: Your hostname, WDSCBELT456 resolves to a loopback address: 127.0.1.1; using 10.255.255.254 instead (on interface lo)\n",
      "25/04/12 16:59:42 WARN Utils: Set SPARK_LOCAL_IP if you need to bind to another address\n",
      "Setting default log level to \"WARN\".\n",
      "To adjust logging level use sc.setLogLevel(newLevel). For SparkR, use setLogLevel(newLevel).\n",
      "25/04/12 16:59:43 WARN NativeCodeLoader: Unable to load native-hadoop library for your platform... using builtin-java classes where applicable\n"
     ]
    }
   ],
   "source": [
    "spark = SparkSession.builder \\\n",
    "    .appName(\"Spark_Aggregations\") \\\n",
    "    .getOrCreate()"
   ]
  },
  {
   "cell_type": "code",
   "execution_count": 11,
   "metadata": {},
   "outputs": [
    {
     "name": "stdout",
     "output_type": "stream",
     "text": [
      "+----------+-----+--------------+----------------+----------+---+-----------------+----+-----------------+------+-----------+\n",
      "|department|grade|grade_end_date|grade_start_date| hire_date| id|incentive_percent|name|performance_score|salary|        ssn|\n",
      "+----------+-----+--------------+----------------+----------+---+-----------------+----+-----------------+------+-----------+\n",
      "| Marketing|    D|    2021-03-05|      2019-06-13|2018-12-29|  1|             14.0| Bob|              3.6|  9104|848-97-2099|\n",
      "|Marketing |    C|    2020-08-12|      2019-03-28|2018-12-29|  1|             14.0| Bob|              3.6|  9104|848-97-2099|\n",
      "+----------+-----+--------------+----------------+----------+---+-----------------+----+-----------------+------+-----------+\n",
      "only showing top 2 rows\n",
      "\n"
     ]
    }
   ],
   "source": [
    "df = spark.read.json(\"/home/obiwan/dbverse_git/pyspark_examples/data/Emp_Salary.json\")\n",
    "df.show(2)"
   ]
  },
  {
   "cell_type": "markdown",
   "metadata": {},
   "source": [
    "### Basic data cleansing & parsing\n",
    "- Trim department column as it could have spaces\n",
    "- Salary column to be renamed to gross_salary \n",
    "- Get Hire month and Year as two new columns\n",
    "- Reorder columns \n",
    "- Mask first 5 characters of SSN"
   ]
  },
  {
   "cell_type": "code",
   "execution_count": 18,
   "metadata": {},
   "outputs": [
    {
     "name": "stdout",
     "output_type": "stream",
     "text": [
      "+----------+-----+--------------+----------------+----------+---+-----------------+----+-----------------+------------+-----------+----------+---------+\n",
      "|department|grade|grade_end_date|grade_start_date| hire_date| id|incentive_percent|name|performance_score|gross_salary|        ssn|hire_month|hire_year|\n",
      "+----------+-----+--------------+----------------+----------+---+-----------------+----+-----------------+------------+-----------+----------+---------+\n",
      "| Marketing|    D|    2021-03-05|      2019-06-13|2018-12-29|  1|             14.0| Bob|              3.6|        9104|848-97-2099|        12|     2018|\n",
      "| Marketing|    C|    2020-08-12|      2019-03-28|2018-12-29|  1|             14.0| Bob|              3.6|        9104|848-97-2099|        12|     2018|\n",
      "+----------+-----+--------------+----------------+----------+---+-----------------+----+-----------------+------------+-----------+----------+---------+\n",
      "only showing top 2 rows\n",
      "\n"
     ]
    }
   ],
   "source": [
    "# renaming syntax - \"existing column name\", \"new column name\") \n",
    "df = df.withColumn(\"department\",trim(col(\"department\"))) \\\n",
    "        .withColumnRenamed(\"salary\",\"gross_salary\")   \\\n",
    "        .withColumn(\"hire_month\",month(col(\"hire_date\"))) \\\n",
    "        .withColumn(\"hire_year\",year(col(\"hire_date\")))\n",
    "\n",
    "df.show(2)"
   ]
  },
  {
   "cell_type": "code",
   "execution_count": null,
   "metadata": {},
   "outputs": [],
   "source": []
  }
 ],
 "metadata": {
  "kernelspec": {
   "display_name": "spark_env",
   "language": "python",
   "name": "python3"
  },
  "language_info": {
   "codemirror_mode": {
    "name": "ipython",
    "version": 3
   },
   "file_extension": ".py",
   "mimetype": "text/x-python",
   "name": "python",
   "nbconvert_exporter": "python",
   "pygments_lexer": "ipython3",
   "version": "3.12.3"
  }
 },
 "nbformat": 4,
 "nbformat_minor": 2
}
